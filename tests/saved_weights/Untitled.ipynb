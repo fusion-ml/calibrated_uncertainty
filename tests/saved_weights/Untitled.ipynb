{
 "cells": [
  {
   "cell_type": "code",
   "execution_count": 1,
   "metadata": {},
   "outputs": [],
   "source": [
    "import torch\n",
    "import matplotlib.pyplot as plt\n",
    "import numpy as np\n",
    "import pickle"
   ]
  },
  {
   "cell_type": "code",
   "execution_count": 12,
   "metadata": {},
   "outputs": [],
   "source": [
    "LINE = '\\n'"
   ]
  },
  {
   "cell_type": "code",
   "execution_count": 13,
   "metadata": {},
   "outputs": [],
   "source": [
    "models = {}"
   ]
  },
  {
   "cell_type": "code",
   "execution_count": 14,
   "metadata": {},
   "outputs": [],
   "source": [
    "for i in range(5):\n",
    "    models[i] = torch.load('model_{}.pt'.format(i))"
   ]
  },
  {
   "cell_type": "code",
   "execution_count": 27,
   "metadata": {},
   "outputs": [],
   "source": [
    "base_idx = 0\n",
    "comp_idx = 3"
   ]
  },
  {
   "cell_type": "code",
   "execution_count": 28,
   "metadata": {
    "scrolled": false
   },
   "outputs": [
    {
     "name": "stdout",
     "output_type": "stream",
     "text": [
      "fcs.0.weight torch.Size([10, 1])\n",
      "\n",
      "\n",
      "fcs.0.bias torch.Size([10])\n",
      "\n",
      "\n",
      "fcs.1.weight torch.Size([10, 10])\n",
      "\n",
      "\n",
      "fcs.1.bias torch.Size([10])\n",
      "\n",
      "\n",
      "fcs.2.weight torch.Size([10, 10])\n",
      "\n",
      "\n",
      "fcs.2.bias torch.Size([10])\n",
      "\n",
      "\n",
      "fcs.3.weight torch.Size([1, 10])\n",
      "\n",
      "\n",
      "fcs.3.bias torch.Size([1])\n",
      "\n",
      "\n"
     ]
    },
    {
     "data": {
      "image/png": "[encoded data removed]",
      "text/plain": [
       "<Figure size 432x288 with 1 Axes>"
      ]
     },
     "metadata": {
      "needs_background": "light"
     },
     "output_type": "display_data"
    }
   ],
   "source": [
    "for k,v in models[0].items():\n",
    "    print(k, v.shape)\n",
    "    diff = torch.abs(torch.mean(models[base_idx][k] - models[comp_idx][k]))\n",
    "    base = torch.mean(torch.abs(models[base_idx][k]))\n",
    "    comp = torch.mean(torch.abs(models[comp_idx][k]))\n",
    "    \n",
    "    plt.scatter(base.numpy(), diff.numpy(), c='b')\n",
    "    plt.scatter(comp.numpy(), diff.numpy(), c='g')\n",
    "    \n",
    "    \n",
    "#     print('diff', torch.mean(models[base_idx][k] - models[comp_idx][k]))\n",
    "#     print('base', torch.mean(torch.abs(models[base_idx][k])))\n",
    "#     print('comp', torch.mean(torch.abs(models[comp_idx][k])))\n",
    "#     print(model_0[k] - model_1[k])\n",
    "    print(LINE)"
   ]
  },
  {
   "cell_type": "code",
   "execution_count": 17,
   "metadata": {},
   "outputs": [],
   "source": [
    "for ens_idx in range(1,5):\n",
    "    curr_model = torch.load('model_{}.pt'.format(ens_idx))\n",
    "    "
   ]
  },
  {
   "cell_type": "code",
   "execution_count": 21,
   "metadata": {},
   "outputs": [
    {
     "data": {
      "text/plain": [
       "['fcs.0.weight',\n",
       " 'fcs.0.bias',\n",
       " 'fcs.1.weight',\n",
       " 'fcs.1.bias',\n",
       " 'fcs.2.weight',\n",
       " 'fcs.2.bias',\n",
       " 'fcs.3.weight',\n",
       " 'fcs.3.bias']"
      ]
     },
     "execution_count": 21,
     "metadata": {},
     "output_type": "execute_result"
    }
   ],
   "source": [
    "list(model.keys())"
   ]
  },
  {
   "cell_type": "code",
   "execution_count": null,
   "metadata": {},
   "outputs": [],
   "source": []
  }
 ],
 "metadata": {
  "kernelspec": {
   "display_name": "py36",
   "language": "python",
   "name": "py36"
  },
  "language_info": {
   "codemirror_mode": {
    "name": "ipython",
    "version": 3
   },
   "file_extension": ".py",
   "mimetype": "text/x-python",
   "name": "python",
   "nbconvert_exporter": "python",
   "pygments_lexer": "ipython3",
   "version": "3.7.3"
  }
 },
 "nbformat": 4,
 "nbformat_minor": 2
}
