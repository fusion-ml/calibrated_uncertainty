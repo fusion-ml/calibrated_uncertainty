{
 "cells": [
  {
   "cell_type": "code",
   "execution_count": 39,
   "metadata": {},
   "outputs": [],
   "source": [
    "import torch\n",
    "import matplotlib.pyplot as plt\n",
    "import numpy as np\n",
    "import pickle"
   ]
  },
  {
   "cell_type": "code",
   "execution_count": 40,
   "metadata": {},
   "outputs": [],
   "source": [
    "LINE = '\\n'*2"
   ]
  },
  {
   "cell_type": "code",
   "execution_count": 45,
   "metadata": {},
   "outputs": [],
   "source": [
    "models = {}"
   ]
  },
  {
   "cell_type": "code",
   "execution_count": 46,
   "metadata": {},
   "outputs": [],
   "source": [
    "for i in range(5):\n",
    "    models[i] = torch.load('model_{}.pt'.format(i))"
   ]
  },
  {
   "cell_type": "code",
   "execution_count": null,
   "metadata": {},
   "outputs": [],
   "source": [
    "base_model = "
   ]
  },
  {
   "cell_type": "code",
   "execution_count": 41,
   "metadata": {},
   "outputs": [],
   "source": [
    "model_0= torch.load('model_0.pt')"
   ]
  },
  {
   "cell_type": "code",
   "execution_count": 42,
   "metadata": {},
   "outputs": [],
   "source": [
    "model_1 = torch.load('model_1.pt')"
   ]
  },
  {
   "cell_type": "code",
   "execution_count": 44,
   "metadata": {
    "scrolled": false
   },
   "outputs": [
    {
     "name": "stdout",
     "output_type": "stream",
     "text": [
      "fcs.0.weight torch.Size([10, 1])\n",
      "tensor(-0.2954)\n",
      "tensor(0.7089)\n",
      "tensor(0.7503)\n",
      "\n",
      "\n",
      "\n",
      "fcs.0.bias torch.Size([10])\n",
      "tensor(0.4163)\n",
      "tensor(1.1350)\n",
      "tensor(1.5288)\n",
      "\n",
      "\n",
      "\n",
      "fcs.1.weight torch.Size([10, 10])\n",
      "tensor(0.0201)\n",
      "tensor(0.5925)\n",
      "tensor(0.6976)\n",
      "\n",
      "\n",
      "\n",
      "fcs.1.bias torch.Size([10])\n",
      "tensor(0.3448)\n",
      "tensor(0.6188)\n",
      "tensor(0.8790)\n",
      "\n",
      "\n",
      "\n",
      "fcs.2.weight torch.Size([10, 10])\n",
      "tensor(0.1627)\n",
      "tensor(0.6276)\n",
      "tensor(0.4410)\n",
      "\n",
      "\n",
      "\n",
      "fcs.2.bias torch.Size([10])\n",
      "tensor(-0.0417)\n",
      "tensor(0.3791)\n",
      "tensor(0.6863)\n",
      "\n",
      "\n",
      "\n",
      "fcs.3.weight torch.Size([1, 10])\n",
      "tensor(0.0112)\n",
      "tensor(0.4630)\n",
      "tensor(0.6193)\n",
      "\n",
      "\n",
      "\n",
      "fcs.3.bias torch.Size([1])\n",
      "tensor(-0.5843)\n",
      "tensor(0.5829)\n",
      "tensor(1.1673)\n",
      "\n",
      "\n",
      "\n"
     ]
    }
   ],
   "source": [
    "for k,v in model_0.items():\n",
    "    print(k, v.shape)\n",
    "    print(torch.mean(model_0[k] - model_1[k]))\n",
    "    print(torch.mean(torch.abs(model_0[k])))\n",
    "    print(torch.mean(torch.abs(model_1[k])))\n",
    "#     print(model_0[k] - model_1[k])\n",
    "    print(LINE)"
   ]
  },
  {
   "cell_type": "code",
   "execution_count": 17,
   "metadata": {},
   "outputs": [],
   "source": [
    "for ens_idx in range(1,5):\n",
    "    curr_model = torch.load('model_{}.pt'.format(ens_idx))\n",
    "    "
   ]
  },
  {
   "cell_type": "code",
   "execution_count": 21,
   "metadata": {},
   "outputs": [
    {
     "data": {
      "text/plain": [
       "['fcs.0.weight',\n",
       " 'fcs.0.bias',\n",
       " 'fcs.1.weight',\n",
       " 'fcs.1.bias',\n",
       " 'fcs.2.weight',\n",
       " 'fcs.2.bias',\n",
       " 'fcs.3.weight',\n",
       " 'fcs.3.bias']"
      ]
     },
     "execution_count": 21,
     "metadata": {},
     "output_type": "execute_result"
    }
   ],
   "source": [
    "list(model.keys())"
   ]
  },
  {
   "cell_type": "code",
   "execution_count": null,
   "metadata": {},
   "outputs": [],
   "source": []
  }
 ],
 "metadata": {
  "kernelspec": {
   "display_name": "py36",
   "language": "python",
   "name": "py36"
  },
  "language_info": {
   "codemirror_mode": {
    "name": "ipython",
    "version": 3
   },
   "file_extension": ".py",
   "mimetype": "text/x-python",
   "name": "python",
   "nbconvert_exporter": "python",
   "pygments_lexer": "ipython3",
   "version": "3.7.3"
  }
 },
 "nbformat": 4,
 "nbformat_minor": 2
}
